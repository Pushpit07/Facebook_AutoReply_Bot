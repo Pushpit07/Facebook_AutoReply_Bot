{
  "nbformat": 4,
  "nbformat_minor": 0,
  "metadata": {
    "colab": {
      "name": "Py_flask.ipynb",
      "provenance": [],
      "collapsed_sections": [],
      "authorship_tag": "ABX9TyNiNGptWqmrS9Rk989C4zPx",
      "include_colab_link": true
    },
    "kernelspec": {
      "name": "python3",
      "display_name": "Python 3"
    },
    "language_info": {
      "name": "python"
    }
  },
  "cells": [
    {
      "cell_type": "markdown",
      "metadata": {
        "id": "view-in-github",
        "colab_type": "text"
      },
      "source": [
        "<a href=\"https://colab.research.google.com/github/Pushpit07/Facebook_AutoReply_Bot/blob/main/Py_flask.ipynb\" target=\"_parent\"><img src=\"https://colab.research.google.com/assets/colab-badge.svg\" alt=\"Open In Colab\"/></a>"
      ]
    },
    {
      "cell_type": "code",
      "metadata": {
        "id": "dfgR4mz3WDah",
        "colab": {
          "base_uri": "https://localhost:8080/"
        },
        "outputId": "8d8a02f7-7d52-4128-b3ad-0c131ce9554c"
      },
      "source": [
        "!pip install flask-ngrok\n",
        "from flask_ngrok import run_with_ngrok"
      ],
      "execution_count": 1,
      "outputs": [
        {
          "output_type": "stream",
          "text": [
            "Requirement already satisfied: flask-ngrok in /usr/local/lib/python3.7/dist-packages (0.0.25)\n",
            "Requirement already satisfied: requests in /usr/local/lib/python3.7/dist-packages (from flask-ngrok) (2.23.0)\n",
            "Requirement already satisfied: Flask>=0.8 in /usr/local/lib/python3.7/dist-packages (from flask-ngrok) (1.1.4)\n",
            "Requirement already satisfied: certifi>=2017.4.17 in /usr/local/lib/python3.7/dist-packages (from requests->flask-ngrok) (2021.5.30)\n",
            "Requirement already satisfied: urllib3!=1.25.0,!=1.25.1,<1.26,>=1.21.1 in /usr/local/lib/python3.7/dist-packages (from requests->flask-ngrok) (1.24.3)\n",
            "Requirement already satisfied: chardet<4,>=3.0.2 in /usr/local/lib/python3.7/dist-packages (from requests->flask-ngrok) (3.0.4)\n",
            "Requirement already satisfied: idna<3,>=2.5 in /usr/local/lib/python3.7/dist-packages (from requests->flask-ngrok) (2.10)\n",
            "Requirement already satisfied: click<8.0,>=5.1 in /usr/local/lib/python3.7/dist-packages (from Flask>=0.8->flask-ngrok) (7.1.2)\n",
            "Requirement already satisfied: Jinja2<3.0,>=2.10.1 in /usr/local/lib/python3.7/dist-packages (from Flask>=0.8->flask-ngrok) (2.11.3)\n",
            "Requirement already satisfied: Werkzeug<2.0,>=0.15 in /usr/local/lib/python3.7/dist-packages (from Flask>=0.8->flask-ngrok) (1.0.1)\n",
            "Requirement already satisfied: itsdangerous<2.0,>=0.24 in /usr/local/lib/python3.7/dist-packages (from Flask>=0.8->flask-ngrok) (1.1.0)\n",
            "Requirement already satisfied: MarkupSafe>=0.23 in /usr/local/lib/python3.7/dist-packages (from Jinja2<3.0,>=2.10.1->Flask>=0.8->flask-ngrok) (2.0.1)\n"
          ],
          "name": "stdout"
        }
      ]
    },
    {
      "cell_type": "code",
      "metadata": {
        "id": "FUI5zQsGUDWf"
      },
      "source": [
        "from flask import Flask, request\n",
        "import random"
      ],
      "execution_count": 2,
      "outputs": []
    },
    {
      "cell_type": "code",
      "metadata": {
        "id": "49N9qJ-YWuWt"
      },
      "source": [
        "data = {\n",
        "    \"life\": [\n",
        "             \"Life is a joke\",\n",
        "             \"It's good sometimes\"\n",
        "    ],\n",
        "    \"love\": [\n",
        "             \"It's meaningless\",\n",
        "             \"The word 'Love' is used so casually\"\n",
        "    ]\n",
        "}"
      ],
      "execution_count": 3,
      "outputs": []
    },
    {
      "cell_type": "code",
      "metadata": {
        "id": "n1A5NFlkUIL2"
      },
      "source": [
        "app = Flask(\"App\")\n",
        "run_with_ngrok(app)"
      ],
      "execution_count": 4,
      "outputs": []
    },
    {
      "cell_type": "code",
      "metadata": {
        "id": "KnoZcD4eVk2u"
      },
      "source": [
        "@app.route(\"/\")\n",
        "def hello():\n",
        "  if request.args.get(\"topic\"):\n",
        "    li = data.get(request.args.get(\"topic\"))\n",
        "    if li:\n",
        "      return random.choice(li)\n",
        "    else:\n",
        "      return \"Choose topic from : \" + \", \".join(list(data.keys())) \n",
        "  else:\n",
        "    return \"Please provide a topic in query\""
      ],
      "execution_count": 5,
      "outputs": []
    },
    {
      "cell_type": "code",
      "metadata": {
        "colab": {
          "base_uri": "https://localhost:8080/"
        },
        "id": "P6acYE5VVfbd",
        "outputId": "7ed17f78-a628-4345-dfbb-5307b3016920"
      },
      "source": [
        "app.run()"
      ],
      "execution_count": 6,
      "outputs": [
        {
          "output_type": "stream",
          "text": [
            " * Serving Flask app \"App\" (lazy loading)\n",
            " * Environment: production\n",
            "\u001b[31m   WARNING: This is a development server. Do not use it in a production deployment.\u001b[0m\n",
            "\u001b[2m   Use a production WSGI server instead.\u001b[0m\n",
            " * Debug mode: off\n"
          ],
          "name": "stdout"
        },
        {
          "output_type": "stream",
          "text": [
            " * Running on http://127.0.0.1:5000/ (Press CTRL+C to quit)\n"
          ],
          "name": "stderr"
        },
        {
          "output_type": "stream",
          "text": [
            " * Running on http://6b1883cd666b.ngrok.io\n",
            " * Traffic stats available on http://127.0.0.1:4040\n"
          ],
          "name": "stdout"
        },
        {
          "output_type": "stream",
          "text": [
            "127.0.0.1 - - [10/Jul/2021 08:02:44] \"\u001b[37mGET / HTTP/1.1\u001b[0m\" 200 -\n",
            "127.0.0.1 - - [10/Jul/2021 08:02:45] \"\u001b[33mGET /favicon.ico HTTP/1.1\u001b[0m\" 404 -\n",
            "127.0.0.1 - - [10/Jul/2021 08:02:48] \"\u001b[37mGET /?topic=love HTTP/1.1\u001b[0m\" 200 -\n",
            "127.0.0.1 - - [10/Jul/2021 08:02:51] \"\u001b[37mGET /?topic=love HTTP/1.1\u001b[0m\" 200 -\n",
            "127.0.0.1 - - [10/Jul/2021 08:02:53] \"\u001b[37mGET /?topic=love HTTP/1.1\u001b[0m\" 200 -\n",
            "127.0.0.1 - - [10/Jul/2021 08:02:54] \"\u001b[37mGET /?topic=love HTTP/1.1\u001b[0m\" 200 -\n",
            "127.0.0.1 - - [10/Jul/2021 08:02:56] \"\u001b[37mGET /?topic=love HTTP/1.1\u001b[0m\" 200 -\n",
            "127.0.0.1 - - [10/Jul/2021 08:02:59] \"\u001b[37mGET /?topic=love HTTP/1.1\u001b[0m\" 200 -\n"
          ],
          "name": "stderr"
        }
      ]
    }
  ]
}